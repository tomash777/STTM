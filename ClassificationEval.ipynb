{
 "cells": [
  {
   "cell_type": "code",
   "execution_count": 33,
   "metadata": {},
   "outputs": [],
   "source": [
    "import numpy as np\n",
    "from sklearn.svm import LinearSVC\n",
    "from sklearn.model_selection import cross_val_score\n",
    "import pathlib\n",
    "\n",
    "def evaluate(pathGoldenLabelsFile):\n",
    "       \n",
    "    goldenLabels = [label.strip() for label in open(pathGoldenLabelsFile).readlines()]     \n",
    "    goldenClusters = {}\n",
    "    ind = -1        \n",
    "    \n",
    "    for label in goldenLabels:\n",
    "        if label in goldenClusters:\n",
    "            ind = goldenClusters[label]\n",
    "        else:\n",
    "            ind += 1\n",
    "            goldenClusters[label] = ind                                            \n",
    "            \n",
    "    with open(\"results/theta.accuracy\", \"w\") as accuracy_file: \n",
    "        accuracy_file.write(\"Golden-labels in: \" + pathGoldenLabelsFile + \"\\n\\n\")\n",
    "        accuracies = []\n",
    "\n",
    "        for filepath in pathlib.Path(\"results\").glob('**/*'):            \n",
    "            if not filepath.name.endswith(\"theta\"):\n",
    "                continue  \n",
    "            docsTopicProbs = open(filepath).readlines()\n",
    "            if len(docsTopicProbs) != len(goldenLabels):\n",
    "                print(\"Error: the number of documents is different to the number of labels!\")\n",
    "                raise Exception() \n",
    "                    \n",
    "            y = np.array([goldenClusters[goldenLabels[i]] for i in range(len(docsTopicProbs))])\n",
    "            X = np.array([np.fromstring(docTopicProb, sep=' ') for docTopicProb in docsTopicProbs])\n",
    " \n",
    "            accuracy = cross_val_score(LinearSVC(), X, y, cv=5)\n",
    "                    \n",
    "            accuracy_file.write(\"Results for: \" + str(filepath) + \"\\n\")                                 \n",
    "            accuracy_file.write(\"\\tAccuracy: \" + str(accuracy) + \"\\n\")\n",
    "            accuracies.append(accuracy)\n",
    "        \n",
    "        if len(accuracies) == 0:\n",
    "            print(\"Error: There is no file ending with theta\")\n",
    "            raise Exception()        \n",
    "        \n",
    "        accuracies = np.array(accuracies)\n",
    "        accuracy_file.write(\"\\n---\\nMean accuracy: \" + str(np.mean(accuracies))\n",
    "                + \", standard deviation: \" + str(np.std(accuracies)))\n",
    "\n",
    "        print(\"\\n---\\nMean accuracy: \" + str(np.mean(accuracies))\n",
    "                + \", standard deviation: \" + str(np.std(accuracies)))\n"
   ]
  },
  {
   "cell_type": "code",
   "execution_count": null,
   "metadata": {},
   "outputs": [],
   "source": []
  }
 ],
 "metadata": {
  "kernelspec": {
   "display_name": "Python 3",
   "language": "python",
   "name": "python3"
  },
  "language_info": {
   "codemirror_mode": {
    "name": "ipython",
    "version": 3
   },
   "file_extension": ".py",
   "mimetype": "text/x-python",
   "name": "python",
   "nbconvert_exporter": "python",
   "pygments_lexer": "ipython3",
   "version": "3.7.7"
  }
 },
 "nbformat": 4,
 "nbformat_minor": 4
}
